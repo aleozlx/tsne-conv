{
 "cells": [
  {
   "cell_type": "code",
   "execution_count": 1,
   "metadata": {},
   "outputs": [
    {
     "name": "stderr",
     "output_type": "stream",
     "text": [
      "Using TensorFlow backend.\n"
     ]
    },
    {
     "name": "stdout",
     "output_type": "stream",
     "text": [
      "Loading weights for block1_conv1\n",
      "Loading weights for block1_conv2\n",
      "Loading weights for block2_conv1\n",
      "Loading weights for block2_conv2\n",
      "Loading weights for block3_conv1\n",
      "Loading weights for block3_conv2\n",
      "Loading weights for block3_conv3\n",
      "Loading weights for block4_conv1\n",
      "Loading weights for block4_conv2\n",
      "Loading weights for block4_conv3\n",
      "Loading weights for block5_conv1\n",
      "Loading weights for block5_conv2\n",
      "Loading weights for block5_conv3\n",
      "kernel_shape (262144, 9)\n",
      "feature_shape (1, 4, 4, 512)\n"
     ]
    }
   ],
   "source": [
    "%matplotlib inline\n",
    "import matplotlib.pyplot as plt\n",
    "\n",
    "import os, sys\n",
    "import itertools, functools\n",
    "import numpy as np\n",
    "import pandas as pd\n",
    "import tensorflow as tf\n",
    "\n",
    "import h5py\n",
    "from skimage.io import imread, imshow\n",
    "from skimage.transform import resize\n",
    "from keras.models import Model\n",
    "from keras.layers import Input\n",
    "from keras.layers.core import Dense, Dropout, Reshape, Flatten\n",
    "from keras.layers.convolutional import Conv2D, MaxPooling2D\n",
    "from keras.optimizers import Adam, SGD\n",
    "from keras.preprocessing.image import ImageDataGenerator\n",
    "from keras.applications.vgg16 import VGG16\n",
    "\n",
    "DATASET = lambda fname = '': os.path.join('B:/TransferLearning', fname)\n",
    "assert os.path.exists(DATASET())\n",
    "\n",
    "class DogsVsCats(Model):\n",
    "    def __init__(self):\n",
    "        self.images = Input(shape = [150, 150, 3])\n",
    "        self.vgg16 = VGG16(weights = None, include_top = False)\n",
    "        classifier = [\n",
    "            Flatten(input_shape = self.vgg16.output_shape[1:]),\n",
    "            Dense(256, activation='relu'),\n",
    "            Dropout(0.5),\n",
    "            Dense(1, activation='sigmoid'),\n",
    "        ]\n",
    "        self.prediction = functools.reduce(lambda f1, f2: f2(f1), [self.images, self.vgg16]+classifier)\n",
    "        super(DogsVsCats, self).__init__(\n",
    "            inputs = [self.images],\n",
    "            outputs = [self.prediction]\n",
    "        )\n",
    "        self.compile(loss='binary_crossentropy',\n",
    "            optimizer=SGD(lr=1e-4, momentum=0.9),\n",
    "            metrics=['accuracy'])\n",
    "\n",
    "    def freeze_vgg16(trainable = False):\n",
    "        for layer in self.vgg16.layers:\n",
    "            layer.trainable = trainable\n",
    "\n",
    "if 0:\n",
    "    model = DogsVsCats()\n",
    "    model.load_weights(DATASET('weights_dogs_cats.h5'))\n",
    "\n",
    "    BATCH_SIZE = 20\n",
    "    test_datagen = ImageDataGenerator(rescale = 1. / 255)\n",
    "    validation_generator = test_datagen.flow_from_directory(\n",
    "        DATASET('TransferLearning/validation'),\n",
    "        target_size=(150, 150),\n",
    "        batch_size=BATCH_SIZE,\n",
    "        class_mode='binary')\n",
    "\n",
    "    loss, accuracy = model.evaluate_generator(validation_generator, steps = 800 // BATCH_SIZE)\n",
    "    print('loss:', loss, 'accuracy:', accuracy)\n",
    "\n",
    "model = VGG16(weights = None, include_top = False)\n",
    "last_layer = None\n",
    "with h5py.File(DATASET('weights_dogs_cats.h5')) as f:\n",
    "    vgg16_weights = f['vgg16']\n",
    "    for name in vgg16_weights:\n",
    "        print('Loading weights for', name)\n",
    "        weights = list(map(lambda pname:np.array(vgg16_weights[name][pname]), ['kernel:0', 'bias:0']))\n",
    "        last_layer = model.get_layer(name)\n",
    "        last_layer.set_weights(weights)\n",
    "\n",
    "im_test = imread(DATASET('TransferLearning/validation/cats/14.jpg'))\n",
    "im_test = resize(im_test, (150, 150), mode = 'reflect')\n",
    "y_features = model.predict(np.expand_dims(im_test, 0))\n",
    "kernels = np.transpose(last_layer.get_weights()[0], (2,3,0,1)).reshape((-1,9))\n",
    "print('kernel_shape', kernels.shape)\n",
    "print('feature_shape', y_features.shape)"
   ]
  },
  {
   "cell_type": "code",
   "execution_count": 2,
   "metadata": {},
   "outputs": [
    {
     "name": "stdout",
     "output_type": "stream",
     "text": [
      "(8000, 9)\n"
     ]
    }
   ],
   "source": [
    "kernels_subset = np.array(pd.DataFrame(kernels).sample(n=8000))\n",
    "print(kernels_subset.shape)"
   ]
  },
  {
   "cell_type": "code",
   "execution_count": null,
   "metadata": {},
   "outputs": [
    {
     "name": "stdout",
     "output_type": "stream",
     "text": [
      "[t-SNE] Computing 121 nearest neighbors...\n",
      "[t-SNE] Indexed 8000 samples in 0.007s...\n",
      "[t-SNE] Computed neighbors for 8000 samples in 0.793s...\n",
      "[t-SNE] Computed conditional probabilities for sample 1000 / 8000\n",
      "[t-SNE] Computed conditional probabilities for sample 2000 / 8000\n",
      "[t-SNE] Computed conditional probabilities for sample 3000 / 8000\n",
      "[t-SNE] Computed conditional probabilities for sample 4000 / 8000\n",
      "[t-SNE] Computed conditional probabilities for sample 5000 / 8000\n",
      "[t-SNE] Computed conditional probabilities for sample 6000 / 8000\n",
      "[t-SNE] Computed conditional probabilities for sample 7000 / 8000\n",
      "[t-SNE] Computed conditional probabilities for sample 8000 / 8000\n",
      "[t-SNE] Mean sigma: 0.003559\n",
      "[t-SNE] KL divergence after 250 iterations with early exaggeration: 80.850594\n"
     ]
    }
   ],
   "source": [
    "from sklearn.manifold import TSNE\n",
    "tsne = TSNE(n_components=2, verbose=1, perplexity=40, n_iter=2000)\n",
    "tsne_results = tsne.fit_transform(kernels_subset)\n",
    "print(tsne_results.shape)"
   ]
  },
  {
   "cell_type": "code",
   "execution_count": 7,
   "metadata": {},
   "outputs": [
    {
     "data": {
      "text/plain": [
       "<matplotlib.collections.PathCollection at 0x228e1017518>"
      ]
     },
     "execution_count": 7,
     "metadata": {},
     "output_type": "execute_result"
    },
    {
     "data": {
      "image/png": "[encoded data removed]",
      "text/plain": [
       "<matplotlib.figure.Figure at 0x228d45ebac8>"
      ]
     },
     "metadata": {},
     "output_type": "display_data"
    }
   ],
   "source": [
    "plt.scatter(tsne_results[:,0],tsne_results[:,1])"
   ]
  },
  {
   "cell_type": "code",
   "execution_count": null,
   "metadata": {
    "collapsed": true
   },
   "outputs": [],
   "source": [
    "tsne_results3 = TSNE(n_components=3, verbose=1, perplexity=15, n_iter=500).fit_transform(kernels_subset)\n",
    "print(tsne_results.shape)"
   ]
  }
 ],
 "metadata": {
  "kernelspec": {
   "display_name": "Python 3",
   "language": "python",
   "name": "python3"
  },
  "language_info": {
   "codemirror_mode": {
    "name": "ipython",
    "version": 3
   },
   "file_extension": ".py",
   "mimetype": "text/x-python",
   "name": "python",
   "nbconvert_exporter": "python",
   "pygments_lexer": "ipython3",
   "version": "3.6.3"
  }
 },
 "nbformat": 4,
 "nbformat_minor": 2
}
